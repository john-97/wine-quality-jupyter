{
 "cells": [
  {
   "cell_type": "markdown",
   "metadata": {},
   "source": [
    "<div class=\"alert alert-block alert-info\">\n",
    "Singapore Management University<br>\n",
    "<i>CS105 Statistical Thinking for Data Science</i>, 2019/20 Term 2\n",
    "</div>"
   ]
  },
  {
   "cell_type": "markdown",
   "metadata": {},
   "source": [
    "## CS105 Wine Quality Project"
   ]
  },
  {
   "cell_type": "markdown",
   "metadata": {},
   "source": [
    ">#### Table of Contents\n",
    ">\n",
    ">- Introduction\n",
    ">- Dataset Exploration\n",
    ">- Data Preprocessing\n",
    ">- Exploratory Data Analysis\n",
    ">    - Categorical Variables\n",
    ">    - Numerical Variables\n",
    ">- Model Building\n",
    ">- Model Evaluation\n",
    ">- Conclusion\n",
    ">- References"
   ]
  },
  {
   "cell_type": "markdown",
   "metadata": {},
   "source": [
    "### 1 Introduction "
   ]
  },
  {
   "cell_type": "markdown",
   "metadata": {},
   "source": [
    "Wine is an alcoholic beverages that has a number of attributes that we can measure. The 12 attributes in our dataset are: fixed acidity, volatile acidity, citric acid, residual sugar, chlorides, free sulfur dioxidee, total sulfur dioxide, density, pH, sulphates, alcohol, and quality. In this research project we seek to find a correlation between the attributes of a Wine, with something all too difficult to quantify, its quality.\n",
    "\n",
    "We seek to find the attributes of wine that actually has an impact on its perceived quality, and "
   ]
  },
  {
   "cell_type": "markdown",
   "metadata": {},
   "source": [
    "### 2 Dataset Exploration"
   ]
  },
  {
   "cell_type": "code",
   "execution_count": 24,
   "metadata": {},
   "outputs": [],
   "source": [
    "import numpy as np\n",
    "import pandas as pd\n",
    "pd.set_option('display.max_columns', None)\n",
    "import matplotlib.pyplot as plt\n",
    "import warnings\n",
    "warnings.filterwarnings('ignore')"
   ]
  },
  {
   "cell_type": "code",
   "execution_count": 25,
   "metadata": {},
   "outputs": [],
   "source": [
    "data_red = pd.read_csv(\"winequality-red.csv\", sep = ';')\n",
    "data_white = pd.read_csv(\"winequality-white.csv\", sep = ';')"
   ]
  },
  {
   "cell_type": "code",
   "execution_count": 26,
   "metadata": {},
   "outputs": [
    {
     "data": {
      "text/html": [
       "<div>\n",
       "<style scoped>\n",
       "    .dataframe tbody tr th:only-of-type {\n",
       "        vertical-align: middle;\n",
       "    }\n",
       "\n",
       "    .dataframe tbody tr th {\n",
       "        vertical-align: top;\n",
       "    }\n",
       "\n",
       "    .dataframe thead th {\n",
       "        text-align: right;\n",
       "    }\n",
       "</style>\n",
       "<table border=\"1\" class=\"dataframe\">\n",
       "  <thead>\n",
       "    <tr style=\"text-align: right;\">\n",
       "      <th></th>\n",
       "      <th>fixed acidity</th>\n",
       "      <th>volatile acidity</th>\n",
       "      <th>citric acid</th>\n",
       "      <th>residual sugar</th>\n",
       "      <th>chlorides</th>\n",
       "      <th>free sulfur dioxide</th>\n",
       "      <th>total sulfur dioxide</th>\n",
       "      <th>density</th>\n",
       "      <th>pH</th>\n",
       "      <th>sulphates</th>\n",
       "      <th>alcohol</th>\n",
       "      <th>quality</th>\n",
       "    </tr>\n",
       "  </thead>\n",
       "  <tbody>\n",
       "    <tr>\n",
       "      <th>0</th>\n",
       "      <td>7.4</td>\n",
       "      <td>0.70</td>\n",
       "      <td>0.00</td>\n",
       "      <td>1.9</td>\n",
       "      <td>0.076</td>\n",
       "      <td>11.0</td>\n",
       "      <td>34.0</td>\n",
       "      <td>0.9978</td>\n",
       "      <td>3.51</td>\n",
       "      <td>0.56</td>\n",
       "      <td>9.4</td>\n",
       "      <td>5</td>\n",
       "    </tr>\n",
       "    <tr>\n",
       "      <th>1</th>\n",
       "      <td>7.8</td>\n",
       "      <td>0.88</td>\n",
       "      <td>0.00</td>\n",
       "      <td>2.6</td>\n",
       "      <td>0.098</td>\n",
       "      <td>25.0</td>\n",
       "      <td>67.0</td>\n",
       "      <td>0.9968</td>\n",
       "      <td>3.20</td>\n",
       "      <td>0.68</td>\n",
       "      <td>9.8</td>\n",
       "      <td>5</td>\n",
       "    </tr>\n",
       "    <tr>\n",
       "      <th>2</th>\n",
       "      <td>7.8</td>\n",
       "      <td>0.76</td>\n",
       "      <td>0.04</td>\n",
       "      <td>2.3</td>\n",
       "      <td>0.092</td>\n",
       "      <td>15.0</td>\n",
       "      <td>54.0</td>\n",
       "      <td>0.9970</td>\n",
       "      <td>3.26</td>\n",
       "      <td>0.65</td>\n",
       "      <td>9.8</td>\n",
       "      <td>5</td>\n",
       "    </tr>\n",
       "    <tr>\n",
       "      <th>3</th>\n",
       "      <td>11.2</td>\n",
       "      <td>0.28</td>\n",
       "      <td>0.56</td>\n",
       "      <td>1.9</td>\n",
       "      <td>0.075</td>\n",
       "      <td>17.0</td>\n",
       "      <td>60.0</td>\n",
       "      <td>0.9980</td>\n",
       "      <td>3.16</td>\n",
       "      <td>0.58</td>\n",
       "      <td>9.8</td>\n",
       "      <td>6</td>\n",
       "    </tr>\n",
       "    <tr>\n",
       "      <th>4</th>\n",
       "      <td>7.4</td>\n",
       "      <td>0.70</td>\n",
       "      <td>0.00</td>\n",
       "      <td>1.9</td>\n",
       "      <td>0.076</td>\n",
       "      <td>11.0</td>\n",
       "      <td>34.0</td>\n",
       "      <td>0.9978</td>\n",
       "      <td>3.51</td>\n",
       "      <td>0.56</td>\n",
       "      <td>9.4</td>\n",
       "      <td>5</td>\n",
       "    </tr>\n",
       "  </tbody>\n",
       "</table>\n",
       "</div>"
      ],
      "text/plain": [
       "   fixed acidity  volatile acidity  citric acid  residual sugar  chlorides  \\\n",
       "0            7.4              0.70         0.00             1.9      0.076   \n",
       "1            7.8              0.88         0.00             2.6      0.098   \n",
       "2            7.8              0.76         0.04             2.3      0.092   \n",
       "3           11.2              0.28         0.56             1.9      0.075   \n",
       "4            7.4              0.70         0.00             1.9      0.076   \n",
       "\n",
       "   free sulfur dioxide  total sulfur dioxide  density    pH  sulphates  \\\n",
       "0                 11.0                  34.0   0.9978  3.51       0.56   \n",
       "1                 25.0                  67.0   0.9968  3.20       0.68   \n",
       "2                 15.0                  54.0   0.9970  3.26       0.65   \n",
       "3                 17.0                  60.0   0.9980  3.16       0.58   \n",
       "4                 11.0                  34.0   0.9978  3.51       0.56   \n",
       "\n",
       "   alcohol  quality  \n",
       "0      9.4        5  \n",
       "1      9.8        5  \n",
       "2      9.8        5  \n",
       "3      9.8        6  \n",
       "4      9.4        5  "
      ]
     },
     "metadata": {},
     "output_type": "display_data"
    },
    {
     "data": {
      "text/html": [
       "<div>\n",
       "<style scoped>\n",
       "    .dataframe tbody tr th:only-of-type {\n",
       "        vertical-align: middle;\n",
       "    }\n",
       "\n",
       "    .dataframe tbody tr th {\n",
       "        vertical-align: top;\n",
       "    }\n",
       "\n",
       "    .dataframe thead th {\n",
       "        text-align: right;\n",
       "    }\n",
       "</style>\n",
       "<table border=\"1\" class=\"dataframe\">\n",
       "  <thead>\n",
       "    <tr style=\"text-align: right;\">\n",
       "      <th></th>\n",
       "      <th>fixed acidity</th>\n",
       "      <th>volatile acidity</th>\n",
       "      <th>citric acid</th>\n",
       "      <th>residual sugar</th>\n",
       "      <th>chlorides</th>\n",
       "      <th>free sulfur dioxide</th>\n",
       "      <th>total sulfur dioxide</th>\n",
       "      <th>density</th>\n",
       "      <th>pH</th>\n",
       "      <th>sulphates</th>\n",
       "      <th>alcohol</th>\n",
       "      <th>quality</th>\n",
       "    </tr>\n",
       "  </thead>\n",
       "  <tbody>\n",
       "    <tr>\n",
       "      <th>0</th>\n",
       "      <td>7.0</td>\n",
       "      <td>0.27</td>\n",
       "      <td>0.36</td>\n",
       "      <td>20.7</td>\n",
       "      <td>0.045</td>\n",
       "      <td>45.0</td>\n",
       "      <td>170.0</td>\n",
       "      <td>1.0010</td>\n",
       "      <td>3.00</td>\n",
       "      <td>0.45</td>\n",
       "      <td>8.8</td>\n",
       "      <td>6</td>\n",
       "    </tr>\n",
       "    <tr>\n",
       "      <th>1</th>\n",
       "      <td>6.3</td>\n",
       "      <td>0.30</td>\n",
       "      <td>0.34</td>\n",
       "      <td>1.6</td>\n",
       "      <td>0.049</td>\n",
       "      <td>14.0</td>\n",
       "      <td>132.0</td>\n",
       "      <td>0.9940</td>\n",
       "      <td>3.30</td>\n",
       "      <td>0.49</td>\n",
       "      <td>9.5</td>\n",
       "      <td>6</td>\n",
       "    </tr>\n",
       "    <tr>\n",
       "      <th>2</th>\n",
       "      <td>8.1</td>\n",
       "      <td>0.28</td>\n",
       "      <td>0.40</td>\n",
       "      <td>6.9</td>\n",
       "      <td>0.050</td>\n",
       "      <td>30.0</td>\n",
       "      <td>97.0</td>\n",
       "      <td>0.9951</td>\n",
       "      <td>3.26</td>\n",
       "      <td>0.44</td>\n",
       "      <td>10.1</td>\n",
       "      <td>6</td>\n",
       "    </tr>\n",
       "    <tr>\n",
       "      <th>3</th>\n",
       "      <td>7.2</td>\n",
       "      <td>0.23</td>\n",
       "      <td>0.32</td>\n",
       "      <td>8.5</td>\n",
       "      <td>0.058</td>\n",
       "      <td>47.0</td>\n",
       "      <td>186.0</td>\n",
       "      <td>0.9956</td>\n",
       "      <td>3.19</td>\n",
       "      <td>0.40</td>\n",
       "      <td>9.9</td>\n",
       "      <td>6</td>\n",
       "    </tr>\n",
       "    <tr>\n",
       "      <th>4</th>\n",
       "      <td>7.2</td>\n",
       "      <td>0.23</td>\n",
       "      <td>0.32</td>\n",
       "      <td>8.5</td>\n",
       "      <td>0.058</td>\n",
       "      <td>47.0</td>\n",
       "      <td>186.0</td>\n",
       "      <td>0.9956</td>\n",
       "      <td>3.19</td>\n",
       "      <td>0.40</td>\n",
       "      <td>9.9</td>\n",
       "      <td>6</td>\n",
       "    </tr>\n",
       "  </tbody>\n",
       "</table>\n",
       "</div>"
      ],
      "text/plain": [
       "   fixed acidity  volatile acidity  citric acid  residual sugar  chlorides  \\\n",
       "0            7.0              0.27         0.36            20.7      0.045   \n",
       "1            6.3              0.30         0.34             1.6      0.049   \n",
       "2            8.1              0.28         0.40             6.9      0.050   \n",
       "3            7.2              0.23         0.32             8.5      0.058   \n",
       "4            7.2              0.23         0.32             8.5      0.058   \n",
       "\n",
       "   free sulfur dioxide  total sulfur dioxide  density    pH  sulphates  \\\n",
       "0                 45.0                 170.0   1.0010  3.00       0.45   \n",
       "1                 14.0                 132.0   0.9940  3.30       0.49   \n",
       "2                 30.0                  97.0   0.9951  3.26       0.44   \n",
       "3                 47.0                 186.0   0.9956  3.19       0.40   \n",
       "4                 47.0                 186.0   0.9956  3.19       0.40   \n",
       "\n",
       "   alcohol  quality  \n",
       "0      8.8        6  \n",
       "1      9.5        6  \n",
       "2     10.1        6  \n",
       "3      9.9        6  \n",
       "4      9.9        6  "
      ]
     },
     "metadata": {},
     "output_type": "display_data"
    }
   ],
   "source": [
    "display(data_red.head())\n",
    "display(data_white.head())"
   ]
  },
  {
   "cell_type": "markdown",
   "metadata": {},
   "source": [
    "A quick peek with the following observations\n",
    "- there are no missing values that need to be dealt with\n",
    "- there are only numerical variables"
   ]
  },
  {
   "cell_type": "code",
   "execution_count": 27,
   "metadata": {},
   "outputs": [
    {
     "name": "stdout",
     "output_type": "stream",
     "text": [
      "1599 12\n",
      "4898 12\n"
     ]
    }
   ],
   "source": [
    "r_rows, r_cols = data_red.shape\n",
    "w_rows, w_cols = data_white.shape\n",
    "\n",
    "print(r_rows, r_cols)\n",
    "print(w_rows, w_cols)"
   ]
  },
  {
   "cell_type": "markdown",
   "metadata": {},
   "source": [
    "There are a total of 1599 observations with 12 columns for the red wine table<br>\n",
    "There are a total of 4898 observations with 12 columns for the white wine table "
   ]
  },
  {
   "cell_type": "code",
   "execution_count": 28,
   "metadata": {},
   "outputs": [
    {
     "name": "stdout",
     "output_type": "stream",
     "text": [
      "Red's # numerical features: 12\n",
      "White's # numerical features: 12\n"
     ]
    }
   ],
   "source": [
    "# Get a list of numerical, categorical features\n",
    "\n",
    "datatypes_r = data_red.dtypes\n",
    "\n",
    "datatypes_w = data_white.dtypes\n",
    "\n",
    "numerical_features_r = datatypes_r[datatypes_r!=\"object\"].index\n",
    "numerical_features_w = datatypes_w[datatypes_w!=\"object\"].index\n",
    "\n",
    "print(f\"Red's # numerical features: {len(numerical_features_r)}\")\n",
    "print(f\"White's # numerical features: {len(numerical_features_w)}\")"
   ]
  },
  {
   "cell_type": "markdown",
   "metadata": {},
   "source": [
    "### 3 Data Preprocessing"
   ]
  },
  {
   "cell_type": "markdown",
   "metadata": {},
   "source": [
    "We now look into issue of missing data."
   ]
  },
  {
   "cell_type": "code",
   "execution_count": 29,
   "metadata": {},
   "outputs": [
    {
     "name": "stdout",
     "output_type": "stream",
     "text": [
      "Red # features with missing data : 0\n",
      "White # features with missing data : 0\n"
     ]
    }
   ],
   "source": [
    "# calculate percentage of non-NaN data\n",
    "\n",
    "missing_percent_r = 1.- data_red.count() / r_rows\n",
    "missing_percent_w = 1.- data_white.count() / w_rows\n",
    "\n",
    "# filter for columns with non-zero count of NaN data\n",
    "\n",
    "missing_percent_r[missing_percent_r>0.0]\n",
    "print(f\"Red # features with missing data : {len(missing_percent_r[missing_percent_r>0.0])}\")\n",
    "\n",
    "missing_percent_w[missing_percent_w>0.0]\n",
    "print(f\"White # features with missing data : {len(missing_percent_w[missing_percent_w>0.0])}\")"
   ]
  },
  {
   "cell_type": "markdown",
   "metadata": {},
   "source": [
    "### 4 Exploratory Data Analysis"
   ]
  },
  {
   "cell_type": "markdown",
   "metadata": {},
   "source": [
    "In this section we will perform EDA to understand the data.  The main outcome of this exercise is to help us do feature selection and feature engineering.  In other words, we want to design a set of attributes which could be used as our independent variables to predict the `Quality` in our model later."
   ]
  },
  {
   "cell_type": "markdown",
   "metadata": {},
   "source": [
    "Now we are done with preprocessing we are good to proceed with EDA.  Before that we ensure to have the correct numerical variables."
   ]
  },
  {
   "cell_type": "markdown",
   "metadata": {},
   "source": [
    "### 4.1 Visual Analysis - Box Plot Analysis"
   ]
  },
  {
   "cell_type": "markdown",
   "metadata": {},
   "source": [
    "We will be conducting a box plot analysis to inspect the data for outliers"
   ]
  },
  {
   "cell_type": "code",
   "execution_count": 30,
   "metadata": {},
   "outputs": [
    {
     "data": {
      "image/png": "[encoded data removed]",
      "text/plain": [
       "<Figure size 1440x1440 with 16 Axes>"
      ]
     },
     "metadata": {
      "needs_background": "light"
     },
     "output_type": "display_data"
    }
   ],
   "source": [
    "data_red[numerical_features_r].plot(kind='box',  subplots=True, layout=(4, 4), figsize=(20, 20))\n",
    "plt.show()"
   ]
  },
  {
   "cell_type": "code",
   "execution_count": 31,
   "metadata": {},
   "outputs": [
    {
     "data": {
      "image/png": "[encoded data removed]",
      "text/plain": [
       "<Figure size 1440x1440 with 16 Axes>"
      ]
     },
     "metadata": {
      "needs_background": "light"
     },
     "output_type": "display_data"
    }
   ],
   "source": [
    "data_red[numerical_features_w].plot(kind='box',  subplots=True, layout=(4, 4), figsize=(20, 20))\n",
    "plt.show()"
   ]
  },
  {
   "cell_type": "markdown",
   "metadata": {},
   "source": [
    "From visual observation, residual sugar, chlorides and sulphates have a large amount of outliers in the upper quartile. This indicates that there are many readings on the higher end which may skew the regression model."
   ]
  },
  {
   "cell_type": "markdown",
   "metadata": {},
   "source": [
    "### 4.2 Visual Analysis - Histogram"
   ]
  },
  {
   "cell_type": "markdown",
   "metadata": {},
   "source": [
    "So far we have selected two categorical variables and in fact encode them numerically.  Hence we can now focus only on numerical variables. The objective is similar here, we want to select features or engineer new features so that they can be our attributes in our model later."
   ]
  },
  {
   "cell_type": "code",
   "execution_count": 32,
   "metadata": {},
   "outputs": [
    {
     "data": {
      "image/png": "[encoded data removed]",
      "text/plain": [
       "<Figure size 1440x2160 with 45 Axes>"
      ]
     },
     "metadata": {
      "needs_background": "light"
     },
     "output_type": "display_data"
    }
   ],
   "source": [
    "data_red[numerical_features_r].hist(layout=(9,5), figsize=(20,30))\n",
    "plt.savefig(\"numerical_r.jpg\")\n",
    "plt.show()"
   ]
  },
  {
   "cell_type": "code",
   "execution_count": 33,
   "metadata": {},
   "outputs": [
    {
     "data": {
      "image/png": "[encoded data removed]",
      "text/plain": [
       "<Figure size 1440x2160 with 45 Axes>"
      ]
     },
     "metadata": {
      "needs_background": "light"
     },
     "output_type": "display_data"
    }
   ],
   "source": [
    "data_white[numerical_features_w].hist(layout=(9,5), figsize=(20,30))\n",
    "plt.savefig(\"numerical_w.jpg\")\n",
    "plt.show()"
   ]
  },
  {
   "cell_type": "markdown",
   "metadata": {},
   "source": [
    "Based on a visual observation we noted the following:\n",
    "- Reaidual sugar is on average lower for red wine as compared to white wine.\n",
    "\n",
    "\n",
    "- Overall, red wine is rated lower on average as compared to white wine."
   ]
  },
  {
   "cell_type": "markdown",
   "metadata": {},
   "source": [
    "Based on the observations above, we now select a preliminary set of variables for further EDA.  At this stage, we would want to select *interpretable* variables.  In other words, the variables should be meaningful and relatable for a domain expert.  As such our preliminary variables are `Total Flr SF`, `Total Bath`, `Total Bsmt SF`,`Bsmt Unf SF`, `Bsmt Fin SF`, `Age`,`Fireplaces`,`Garage Area`,`Gr Liv Area`,`Lot Area`,`Overall Qual`,`TotRms AbvGrd`."
   ]
  },
  {
   "cell_type": "markdown",
   "metadata": {},
   "source": [
    "### Correlation Analysis - Red Wine"
   ]
  },
  {
   "cell_type": "code",
   "execution_count": 34,
   "metadata": {},
   "outputs": [
    {
     "data": {
      "text/html": [
       "<div>\n",
       "<style scoped>\n",
       "    .dataframe tbody tr th:only-of-type {\n",
       "        vertical-align: middle;\n",
       "    }\n",
       "\n",
       "    .dataframe tbody tr th {\n",
       "        vertical-align: top;\n",
       "    }\n",
       "\n",
       "    .dataframe thead th {\n",
       "        text-align: right;\n",
       "    }\n",
       "</style>\n",
       "<table border=\"1\" class=\"dataframe\">\n",
       "  <thead>\n",
       "    <tr style=\"text-align: right;\">\n",
       "      <th></th>\n",
       "      <th>fixed acidity</th>\n",
       "      <th>volatile acidity</th>\n",
       "      <th>citric acid</th>\n",
       "      <th>residual sugar</th>\n",
       "      <th>chlorides</th>\n",
       "      <th>free sulfur dioxide</th>\n",
       "      <th>total sulfur dioxide</th>\n",
       "      <th>density</th>\n",
       "      <th>pH</th>\n",
       "      <th>sulphates</th>\n",
       "      <th>alcohol</th>\n",
       "      <th>quality</th>\n",
       "    </tr>\n",
       "  </thead>\n",
       "  <tbody>\n",
       "    <tr>\n",
       "      <th>fixed acidity</th>\n",
       "      <td>1.000000</td>\n",
       "      <td>-0.256131</td>\n",
       "      <td>0.671703</td>\n",
       "      <td>0.114777</td>\n",
       "      <td>0.093705</td>\n",
       "      <td>-0.153794</td>\n",
       "      <td>-0.113181</td>\n",
       "      <td>0.668047</td>\n",
       "      <td>-0.682978</td>\n",
       "      <td>0.183006</td>\n",
       "      <td>-0.061668</td>\n",
       "      <td>0.124052</td>\n",
       "    </tr>\n",
       "    <tr>\n",
       "      <th>volatile acidity</th>\n",
       "      <td>-0.256131</td>\n",
       "      <td>1.000000</td>\n",
       "      <td>-0.552496</td>\n",
       "      <td>0.001918</td>\n",
       "      <td>0.061298</td>\n",
       "      <td>-0.010504</td>\n",
       "      <td>0.076470</td>\n",
       "      <td>0.022026</td>\n",
       "      <td>0.234937</td>\n",
       "      <td>-0.260987</td>\n",
       "      <td>-0.202288</td>\n",
       "      <td>-0.390558</td>\n",
       "    </tr>\n",
       "    <tr>\n",
       "      <th>citric acid</th>\n",
       "      <td>0.671703</td>\n",
       "      <td>-0.552496</td>\n",
       "      <td>1.000000</td>\n",
       "      <td>0.143577</td>\n",
       "      <td>0.203823</td>\n",
       "      <td>-0.060978</td>\n",
       "      <td>0.035533</td>\n",
       "      <td>0.364947</td>\n",
       "      <td>-0.541904</td>\n",
       "      <td>0.312770</td>\n",
       "      <td>0.109903</td>\n",
       "      <td>0.226373</td>\n",
       "    </tr>\n",
       "    <tr>\n",
       "      <th>residual sugar</th>\n",
       "      <td>0.114777</td>\n",
       "      <td>0.001918</td>\n",
       "      <td>0.143577</td>\n",
       "      <td>1.000000</td>\n",
       "      <td>0.055610</td>\n",
       "      <td>0.187049</td>\n",
       "      <td>0.203028</td>\n",
       "      <td>0.355283</td>\n",
       "      <td>-0.085652</td>\n",
       "      <td>0.005527</td>\n",
       "      <td>0.042075</td>\n",
       "      <td>0.013732</td>\n",
       "    </tr>\n",
       "    <tr>\n",
       "      <th>chlorides</th>\n",
       "      <td>0.093705</td>\n",
       "      <td>0.061298</td>\n",
       "      <td>0.203823</td>\n",
       "      <td>0.055610</td>\n",
       "      <td>1.000000</td>\n",
       "      <td>0.005562</td>\n",
       "      <td>0.047400</td>\n",
       "      <td>0.200632</td>\n",
       "      <td>-0.265026</td>\n",
       "      <td>0.371260</td>\n",
       "      <td>-0.221141</td>\n",
       "      <td>-0.128907</td>\n",
       "    </tr>\n",
       "    <tr>\n",
       "      <th>free sulfur dioxide</th>\n",
       "      <td>-0.153794</td>\n",
       "      <td>-0.010504</td>\n",
       "      <td>-0.060978</td>\n",
       "      <td>0.187049</td>\n",
       "      <td>0.005562</td>\n",
       "      <td>1.000000</td>\n",
       "      <td>0.667666</td>\n",
       "      <td>-0.021946</td>\n",
       "      <td>0.070377</td>\n",
       "      <td>0.051658</td>\n",
       "      <td>-0.069408</td>\n",
       "      <td>-0.050656</td>\n",
       "    </tr>\n",
       "    <tr>\n",
       "      <th>total sulfur dioxide</th>\n",
       "      <td>-0.113181</td>\n",
       "      <td>0.076470</td>\n",
       "      <td>0.035533</td>\n",
       "      <td>0.203028</td>\n",
       "      <td>0.047400</td>\n",
       "      <td>0.667666</td>\n",
       "      <td>1.000000</td>\n",
       "      <td>0.071269</td>\n",
       "      <td>-0.066495</td>\n",
       "      <td>0.042947</td>\n",
       "      <td>-0.205654</td>\n",
       "      <td>-0.185100</td>\n",
       "    </tr>\n",
       "    <tr>\n",
       "      <th>density</th>\n",
       "      <td>0.668047</td>\n",
       "      <td>0.022026</td>\n",
       "      <td>0.364947</td>\n",
       "      <td>0.355283</td>\n",
       "      <td>0.200632</td>\n",
       "      <td>-0.021946</td>\n",
       "      <td>0.071269</td>\n",
       "      <td>1.000000</td>\n",
       "      <td>-0.341699</td>\n",
       "      <td>0.148506</td>\n",
       "      <td>-0.496180</td>\n",
       "      <td>-0.174919</td>\n",
       "    </tr>\n",
       "    <tr>\n",
       "      <th>pH</th>\n",
       "      <td>-0.682978</td>\n",
       "      <td>0.234937</td>\n",
       "      <td>-0.541904</td>\n",
       "      <td>-0.085652</td>\n",
       "      <td>-0.265026</td>\n",
       "      <td>0.070377</td>\n",
       "      <td>-0.066495</td>\n",
       "      <td>-0.341699</td>\n",
       "      <td>1.000000</td>\n",
       "      <td>-0.196648</td>\n",
       "      <td>0.205633</td>\n",
       "      <td>-0.057731</td>\n",
       "    </tr>\n",
       "    <tr>\n",
       "      <th>sulphates</th>\n",
       "      <td>0.183006</td>\n",
       "      <td>-0.260987</td>\n",
       "      <td>0.312770</td>\n",
       "      <td>0.005527</td>\n",
       "      <td>0.371260</td>\n",
       "      <td>0.051658</td>\n",
       "      <td>0.042947</td>\n",
       "      <td>0.148506</td>\n",
       "      <td>-0.196648</td>\n",
       "      <td>1.000000</td>\n",
       "      <td>0.093595</td>\n",
       "      <td>0.251397</td>\n",
       "    </tr>\n",
       "    <tr>\n",
       "      <th>alcohol</th>\n",
       "      <td>-0.061668</td>\n",
       "      <td>-0.202288</td>\n",
       "      <td>0.109903</td>\n",
       "      <td>0.042075</td>\n",
       "      <td>-0.221141</td>\n",
       "      <td>-0.069408</td>\n",
       "      <td>-0.205654</td>\n",
       "      <td>-0.496180</td>\n",
       "      <td>0.205633</td>\n",
       "      <td>0.093595</td>\n",
       "      <td>1.000000</td>\n",
       "      <td>0.476166</td>\n",
       "    </tr>\n",
       "    <tr>\n",
       "      <th>quality</th>\n",
       "      <td>0.124052</td>\n",
       "      <td>-0.390558</td>\n",
       "      <td>0.226373</td>\n",
       "      <td>0.013732</td>\n",
       "      <td>-0.128907</td>\n",
       "      <td>-0.050656</td>\n",
       "      <td>-0.185100</td>\n",
       "      <td>-0.174919</td>\n",
       "      <td>-0.057731</td>\n",
       "      <td>0.251397</td>\n",
       "      <td>0.476166</td>\n",
       "      <td>1.000000</td>\n",
       "    </tr>\n",
       "  </tbody>\n",
       "</table>\n",
       "</div>"
      ],
      "text/plain": [
       "                      fixed acidity  volatile acidity  citric acid  \\\n",
       "fixed acidity              1.000000         -0.256131     0.671703   \n",
       "volatile acidity          -0.256131          1.000000    -0.552496   \n",
       "citric acid                0.671703         -0.552496     1.000000   \n",
       "residual sugar             0.114777          0.001918     0.143577   \n",
       "chlorides                  0.093705          0.061298     0.203823   \n",
       "free sulfur dioxide       -0.153794         -0.010504    -0.060978   \n",
       "total sulfur dioxide      -0.113181          0.076470     0.035533   \n",
       "density                    0.668047          0.022026     0.364947   \n",
       "pH                        -0.682978          0.234937    -0.541904   \n",
       "sulphates                  0.183006         -0.260987     0.312770   \n",
       "alcohol                   -0.061668         -0.202288     0.109903   \n",
       "quality                    0.124052         -0.390558     0.226373   \n",
       "\n",
       "                      residual sugar  chlorides  free sulfur dioxide  \\\n",
       "fixed acidity               0.114777   0.093705            -0.153794   \n",
       "volatile acidity            0.001918   0.061298            -0.010504   \n",
       "citric acid                 0.143577   0.203823            -0.060978   \n",
       "residual sugar              1.000000   0.055610             0.187049   \n",
       "chlorides                   0.055610   1.000000             0.005562   \n",
       "free sulfur dioxide         0.187049   0.005562             1.000000   \n",
       "total sulfur dioxide        0.203028   0.047400             0.667666   \n",
       "density                     0.355283   0.200632            -0.021946   \n",
       "pH                         -0.085652  -0.265026             0.070377   \n",
       "sulphates                   0.005527   0.371260             0.051658   \n",
       "alcohol                     0.042075  -0.221141            -0.069408   \n",
       "quality                     0.013732  -0.128907            -0.050656   \n",
       "\n",
       "                      total sulfur dioxide   density        pH  sulphates  \\\n",
       "fixed acidity                    -0.113181  0.668047 -0.682978   0.183006   \n",
       "volatile acidity                  0.076470  0.022026  0.234937  -0.260987   \n",
       "citric acid                       0.035533  0.364947 -0.541904   0.312770   \n",
       "residual sugar                    0.203028  0.355283 -0.085652   0.005527   \n",
       "chlorides                         0.047400  0.200632 -0.265026   0.371260   \n",
       "free sulfur dioxide               0.667666 -0.021946  0.070377   0.051658   \n",
       "total sulfur dioxide              1.000000  0.071269 -0.066495   0.042947   \n",
       "density                           0.071269  1.000000 -0.341699   0.148506   \n",
       "pH                               -0.066495 -0.341699  1.000000  -0.196648   \n",
       "sulphates                         0.042947  0.148506 -0.196648   1.000000   \n",
       "alcohol                          -0.205654 -0.496180  0.205633   0.093595   \n",
       "quality                          -0.185100 -0.174919 -0.057731   0.251397   \n",
       "\n",
       "                       alcohol   quality  \n",
       "fixed acidity        -0.061668  0.124052  \n",
       "volatile acidity     -0.202288 -0.390558  \n",
       "citric acid           0.109903  0.226373  \n",
       "residual sugar        0.042075  0.013732  \n",
       "chlorides            -0.221141 -0.128907  \n",
       "free sulfur dioxide  -0.069408 -0.050656  \n",
       "total sulfur dioxide -0.205654 -0.185100  \n",
       "density              -0.496180 -0.174919  \n",
       "pH                    0.205633 -0.057731  \n",
       "sulphates             0.093595  0.251397  \n",
       "alcohol               1.000000  0.476166  \n",
       "quality               0.476166  1.000000  "
      ]
     },
     "execution_count": 34,
     "metadata": {},
     "output_type": "execute_result"
    }
   ],
   "source": [
    "data_red.corr()"
   ]
  },
  {
   "cell_type": "code",
   "execution_count": 35,
   "metadata": {},
   "outputs": [
    {
     "data": {
      "image/png": "[encoded data removed]",
      "text/plain": [
       "<Figure size 432x288 with 2 Axes>"
      ]
     },
     "metadata": {
      "needs_background": "light"
     },
     "output_type": "display_data"
    }
   ],
   "source": [
    "import seaborn as sns\n",
    "r2 = data_red.corr()**2\n",
    "sns.heatmap(r2)\n",
    "plt.show()"
   ]
  },
  {
   "cell_type": "markdown",
   "metadata": {},
   "source": [
    "The next step is to see if dependent variable `SalePrice` is correlated with our independent variables. We could do it with a correlation table or via correlation heatmap as above.  Note that in the correlation heatmap above, we calculate $r^2$ instead.  The darker the shade the lower the correlation.  We can see that `Lot Area`, `Bsmt Unf SF` are not quite correlated with `SalePrice`.  Below we write a function to select the features based on a threshold."
   ]
  },
  {
   "cell_type": "code",
   "execution_count": 36,
   "metadata": {},
   "outputs": [
    {
     "name": "stdout",
     "output_type": "stream",
     "text": [
      "updated selected features: ['volatile acidity', 'citric acid', 'total sulfur dioxide', 'density', 'sulphates', 'alcohol']\n"
     ]
    }
   ],
   "source": [
    "# given a dataframe df, and a target variable and threshold\n",
    "# return all columns in df which are 'highly' correlated to target\n",
    "# definition of 'high' correlated given by parameter threshold\n",
    "\n",
    "def corr_features(df, target, threshold):\n",
    "    corr_features = []\n",
    "    for feature in df.columns:\n",
    "        if feature==target: continue\n",
    "        x = df[feature]\n",
    "        y = df[target]\n",
    "        r2 = np.corrcoef(x,y)[0][1]\n",
    "        if abs(r2)>threshold:\n",
    "            corr_features.append(feature)\n",
    "    return corr_features\n",
    "\n",
    "features_selected = corr_features(data_red, 'quality', 0.15)\n",
    "print(f\"updated selected features: {features_selected}\")"
   ]
  },
  {
   "cell_type": "markdown",
   "metadata": {},
   "source": [
    "We also want to check that our selected features are not correlated amongst each other.  Any feature that is correlated to others are in a sense *redundant*, hence we would remove them.  Again we could do a quick visual check and see that `Gr Liv Area` is highly correlated to both `Total Flr SF` and `Overall Qual` and hence it is a good candidate to be removed.  Here we have also written a function to eliminate the feature that is the most correlated one by one, untill all features are not correlated."
   ]
  },
  {
   "cell_type": "code",
   "execution_count": 37,
   "metadata": {},
   "outputs": [
    {
     "data": {
      "image/png": "[encoded data removed]",
      "text/plain": [
       "<Figure size 432x288 with 2 Axes>"
      ]
     },
     "metadata": {
      "needs_background": "light"
     },
     "output_type": "display_data"
    }
   ],
   "source": [
    "r2 = data_red[features_selected].corr()**2\n",
    "sns.heatmap(r2)\n",
    "plt.show()"
   ]
  },
  {
   "cell_type": "code",
   "execution_count": 38,
   "metadata": {},
   "outputs": [
    {
     "name": "stdout",
     "output_type": "stream",
     "text": [
      "Final selected features : ['volatile acidity', 'total sulfur dioxide', 'density', 'sulphates', 'alcohol']\n"
     ]
    }
   ],
   "source": [
    "# get the feature that has the most number of features\n",
    "# it is correlated with, beyond certain threshold\n",
    "\n",
    "def most_corr_feature(df, threshold):\n",
    "    r2_matrix = abs(df.corr())\n",
    "    count = r2_matrix[r2_matrix>threshold].count()\n",
    "    return count.sort_values(ascending=False).index[0]\n",
    "\n",
    "\n",
    "# return true if all the features are uncorrelated,\n",
    "# as defined by a threshold\n",
    "\n",
    "def all_features_uncorr(df, threshold):\n",
    "    r2_matrix = abs(df.corr())\n",
    "    n = len(r2_matrix)\n",
    "    return r2_matrix[r2_matrix>threshold].count().sum()==n\n",
    "\n",
    "\n",
    "# get a set of uncorrelated features\n",
    "\n",
    "def get_uncorr_features(df, threshold):\n",
    "    features = df.columns.tolist()\n",
    "    while all_features_uncorr(df[features], threshold) == False:\n",
    "        most_corr_fea = most_corr_feature(df[features], threshold)\n",
    "        features.remove(most_corr_fea)\n",
    "    return features\n",
    "\n",
    "features_selected = get_uncorr_features(data_red[features_selected], 0.5)\n",
    "print(f\"Final selected features : {features_selected}\")"
   ]
  },
  {
   "cell_type": "code",
   "execution_count": 39,
   "metadata": {},
   "outputs": [
    {
     "data": {
      "image/png": "[encoded data removed]",
      "text/plain": [
       "<Figure size 432x288 with 2 Axes>"
      ]
     },
     "metadata": {
      "needs_background": "light"
     },
     "output_type": "display_data"
    }
   ],
   "source": [
    "data_red[features_selected+['quality']].corr()\n",
    "r2 = abs(data_red[features_selected+['quality']].corr())\n",
    "sns.heatmap(r2)\n",
    "plt.savefig(\"final_corr.jpg\")\n",
    "plt.show()"
   ]
  },
  {
   "cell_type": "markdown",
   "metadata": {},
   "source": [
    "### Correlation Analysis - White Wine"
   ]
  },
  {
   "cell_type": "code",
   "execution_count": 40,
   "metadata": {},
   "outputs": [
    {
     "data": {
      "text/html": [
       "<div>\n",
       "<style scoped>\n",
       "    .dataframe tbody tr th:only-of-type {\n",
       "        vertical-align: middle;\n",
       "    }\n",
       "\n",
       "    .dataframe tbody tr th {\n",
       "        vertical-align: top;\n",
       "    }\n",
       "\n",
       "    .dataframe thead th {\n",
       "        text-align: right;\n",
       "    }\n",
       "</style>\n",
       "<table border=\"1\" class=\"dataframe\">\n",
       "  <thead>\n",
       "    <tr style=\"text-align: right;\">\n",
       "      <th></th>\n",
       "      <th>fixed acidity</th>\n",
       "      <th>volatile acidity</th>\n",
       "      <th>citric acid</th>\n",
       "      <th>residual sugar</th>\n",
       "      <th>chlorides</th>\n",
       "      <th>free sulfur dioxide</th>\n",
       "      <th>total sulfur dioxide</th>\n",
       "      <th>density</th>\n",
       "      <th>pH</th>\n",
       "      <th>sulphates</th>\n",
       "      <th>alcohol</th>\n",
       "      <th>quality</th>\n",
       "    </tr>\n",
       "  </thead>\n",
       "  <tbody>\n",
       "    <tr>\n",
       "      <th>fixed acidity</th>\n",
       "      <td>1.000000</td>\n",
       "      <td>-0.022697</td>\n",
       "      <td>0.289181</td>\n",
       "      <td>0.089021</td>\n",
       "      <td>0.023086</td>\n",
       "      <td>-0.049396</td>\n",
       "      <td>0.091070</td>\n",
       "      <td>0.265331</td>\n",
       "      <td>-0.425858</td>\n",
       "      <td>-0.017143</td>\n",
       "      <td>-0.120881</td>\n",
       "      <td>-0.113663</td>\n",
       "    </tr>\n",
       "    <tr>\n",
       "      <th>volatile acidity</th>\n",
       "      <td>-0.022697</td>\n",
       "      <td>1.000000</td>\n",
       "      <td>-0.149472</td>\n",
       "      <td>0.064286</td>\n",
       "      <td>0.070512</td>\n",
       "      <td>-0.097012</td>\n",
       "      <td>0.089261</td>\n",
       "      <td>0.027114</td>\n",
       "      <td>-0.031915</td>\n",
       "      <td>-0.035728</td>\n",
       "      <td>0.067718</td>\n",
       "      <td>-0.194723</td>\n",
       "    </tr>\n",
       "    <tr>\n",
       "      <th>citric acid</th>\n",
       "      <td>0.289181</td>\n",
       "      <td>-0.149472</td>\n",
       "      <td>1.000000</td>\n",
       "      <td>0.094212</td>\n",
       "      <td>0.114364</td>\n",
       "      <td>0.094077</td>\n",
       "      <td>0.121131</td>\n",
       "      <td>0.149503</td>\n",
       "      <td>-0.163748</td>\n",
       "      <td>0.062331</td>\n",
       "      <td>-0.075729</td>\n",
       "      <td>-0.009209</td>\n",
       "    </tr>\n",
       "    <tr>\n",
       "      <th>residual sugar</th>\n",
       "      <td>0.089021</td>\n",
       "      <td>0.064286</td>\n",
       "      <td>0.094212</td>\n",
       "      <td>1.000000</td>\n",
       "      <td>0.088685</td>\n",
       "      <td>0.299098</td>\n",
       "      <td>0.401439</td>\n",
       "      <td>0.838966</td>\n",
       "      <td>-0.194133</td>\n",
       "      <td>-0.026664</td>\n",
       "      <td>-0.450631</td>\n",
       "      <td>-0.097577</td>\n",
       "    </tr>\n",
       "    <tr>\n",
       "      <th>chlorides</th>\n",
       "      <td>0.023086</td>\n",
       "      <td>0.070512</td>\n",
       "      <td>0.114364</td>\n",
       "      <td>0.088685</td>\n",
       "      <td>1.000000</td>\n",
       "      <td>0.101392</td>\n",
       "      <td>0.198910</td>\n",
       "      <td>0.257211</td>\n",
       "      <td>-0.090439</td>\n",
       "      <td>0.016763</td>\n",
       "      <td>-0.360189</td>\n",
       "      <td>-0.209934</td>\n",
       "    </tr>\n",
       "    <tr>\n",
       "      <th>free sulfur dioxide</th>\n",
       "      <td>-0.049396</td>\n",
       "      <td>-0.097012</td>\n",
       "      <td>0.094077</td>\n",
       "      <td>0.299098</td>\n",
       "      <td>0.101392</td>\n",
       "      <td>1.000000</td>\n",
       "      <td>0.615501</td>\n",
       "      <td>0.294210</td>\n",
       "      <td>-0.000618</td>\n",
       "      <td>0.059217</td>\n",
       "      <td>-0.250104</td>\n",
       "      <td>0.008158</td>\n",
       "    </tr>\n",
       "    <tr>\n",
       "      <th>total sulfur dioxide</th>\n",
       "      <td>0.091070</td>\n",
       "      <td>0.089261</td>\n",
       "      <td>0.121131</td>\n",
       "      <td>0.401439</td>\n",
       "      <td>0.198910</td>\n",
       "      <td>0.615501</td>\n",
       "      <td>1.000000</td>\n",
       "      <td>0.529881</td>\n",
       "      <td>0.002321</td>\n",
       "      <td>0.134562</td>\n",
       "      <td>-0.448892</td>\n",
       "      <td>-0.174737</td>\n",
       "    </tr>\n",
       "    <tr>\n",
       "      <th>density</th>\n",
       "      <td>0.265331</td>\n",
       "      <td>0.027114</td>\n",
       "      <td>0.149503</td>\n",
       "      <td>0.838966</td>\n",
       "      <td>0.257211</td>\n",
       "      <td>0.294210</td>\n",
       "      <td>0.529881</td>\n",
       "      <td>1.000000</td>\n",
       "      <td>-0.093591</td>\n",
       "      <td>0.074493</td>\n",
       "      <td>-0.780138</td>\n",
       "      <td>-0.307123</td>\n",
       "    </tr>\n",
       "    <tr>\n",
       "      <th>pH</th>\n",
       "      <td>-0.425858</td>\n",
       "      <td>-0.031915</td>\n",
       "      <td>-0.163748</td>\n",
       "      <td>-0.194133</td>\n",
       "      <td>-0.090439</td>\n",
       "      <td>-0.000618</td>\n",
       "      <td>0.002321</td>\n",
       "      <td>-0.093591</td>\n",
       "      <td>1.000000</td>\n",
       "      <td>0.155951</td>\n",
       "      <td>0.121432</td>\n",
       "      <td>0.099427</td>\n",
       "    </tr>\n",
       "    <tr>\n",
       "      <th>sulphates</th>\n",
       "      <td>-0.017143</td>\n",
       "      <td>-0.035728</td>\n",
       "      <td>0.062331</td>\n",
       "      <td>-0.026664</td>\n",
       "      <td>0.016763</td>\n",
       "      <td>0.059217</td>\n",
       "      <td>0.134562</td>\n",
       "      <td>0.074493</td>\n",
       "      <td>0.155951</td>\n",
       "      <td>1.000000</td>\n",
       "      <td>-0.017433</td>\n",
       "      <td>0.053678</td>\n",
       "    </tr>\n",
       "    <tr>\n",
       "      <th>alcohol</th>\n",
       "      <td>-0.120881</td>\n",
       "      <td>0.067718</td>\n",
       "      <td>-0.075729</td>\n",
       "      <td>-0.450631</td>\n",
       "      <td>-0.360189</td>\n",
       "      <td>-0.250104</td>\n",
       "      <td>-0.448892</td>\n",
       "      <td>-0.780138</td>\n",
       "      <td>0.121432</td>\n",
       "      <td>-0.017433</td>\n",
       "      <td>1.000000</td>\n",
       "      <td>0.435575</td>\n",
       "    </tr>\n",
       "    <tr>\n",
       "      <th>quality</th>\n",
       "      <td>-0.113663</td>\n",
       "      <td>-0.194723</td>\n",
       "      <td>-0.009209</td>\n",
       "      <td>-0.097577</td>\n",
       "      <td>-0.209934</td>\n",
       "      <td>0.008158</td>\n",
       "      <td>-0.174737</td>\n",
       "      <td>-0.307123</td>\n",
       "      <td>0.099427</td>\n",
       "      <td>0.053678</td>\n",
       "      <td>0.435575</td>\n",
       "      <td>1.000000</td>\n",
       "    </tr>\n",
       "  </tbody>\n",
       "</table>\n",
       "</div>"
      ],
      "text/plain": [
       "                      fixed acidity  volatile acidity  citric acid  \\\n",
       "fixed acidity              1.000000         -0.022697     0.289181   \n",
       "volatile acidity          -0.022697          1.000000    -0.149472   \n",
       "citric acid                0.289181         -0.149472     1.000000   \n",
       "residual sugar             0.089021          0.064286     0.094212   \n",
       "chlorides                  0.023086          0.070512     0.114364   \n",
       "free sulfur dioxide       -0.049396         -0.097012     0.094077   \n",
       "total sulfur dioxide       0.091070          0.089261     0.121131   \n",
       "density                    0.265331          0.027114     0.149503   \n",
       "pH                        -0.425858         -0.031915    -0.163748   \n",
       "sulphates                 -0.017143         -0.035728     0.062331   \n",
       "alcohol                   -0.120881          0.067718    -0.075729   \n",
       "quality                   -0.113663         -0.194723    -0.009209   \n",
       "\n",
       "                      residual sugar  chlorides  free sulfur dioxide  \\\n",
       "fixed acidity               0.089021   0.023086            -0.049396   \n",
       "volatile acidity            0.064286   0.070512            -0.097012   \n",
       "citric acid                 0.094212   0.114364             0.094077   \n",
       "residual sugar              1.000000   0.088685             0.299098   \n",
       "chlorides                   0.088685   1.000000             0.101392   \n",
       "free sulfur dioxide         0.299098   0.101392             1.000000   \n",
       "total sulfur dioxide        0.401439   0.198910             0.615501   \n",
       "density                     0.838966   0.257211             0.294210   \n",
       "pH                         -0.194133  -0.090439            -0.000618   \n",
       "sulphates                  -0.026664   0.016763             0.059217   \n",
       "alcohol                    -0.450631  -0.360189            -0.250104   \n",
       "quality                    -0.097577  -0.209934             0.008158   \n",
       "\n",
       "                      total sulfur dioxide   density        pH  sulphates  \\\n",
       "fixed acidity                     0.091070  0.265331 -0.425858  -0.017143   \n",
       "volatile acidity                  0.089261  0.027114 -0.031915  -0.035728   \n",
       "citric acid                       0.121131  0.149503 -0.163748   0.062331   \n",
       "residual sugar                    0.401439  0.838966 -0.194133  -0.026664   \n",
       "chlorides                         0.198910  0.257211 -0.090439   0.016763   \n",
       "free sulfur dioxide               0.615501  0.294210 -0.000618   0.059217   \n",
       "total sulfur dioxide              1.000000  0.529881  0.002321   0.134562   \n",
       "density                           0.529881  1.000000 -0.093591   0.074493   \n",
       "pH                                0.002321 -0.093591  1.000000   0.155951   \n",
       "sulphates                         0.134562  0.074493  0.155951   1.000000   \n",
       "alcohol                          -0.448892 -0.780138  0.121432  -0.017433   \n",
       "quality                          -0.174737 -0.307123  0.099427   0.053678   \n",
       "\n",
       "                       alcohol   quality  \n",
       "fixed acidity        -0.120881 -0.113663  \n",
       "volatile acidity      0.067718 -0.194723  \n",
       "citric acid          -0.075729 -0.009209  \n",
       "residual sugar       -0.450631 -0.097577  \n",
       "chlorides            -0.360189 -0.209934  \n",
       "free sulfur dioxide  -0.250104  0.008158  \n",
       "total sulfur dioxide -0.448892 -0.174737  \n",
       "density              -0.780138 -0.307123  \n",
       "pH                    0.121432  0.099427  \n",
       "sulphates            -0.017433  0.053678  \n",
       "alcohol               1.000000  0.435575  \n",
       "quality               0.435575  1.000000  "
      ]
     },
     "execution_count": 40,
     "metadata": {},
     "output_type": "execute_result"
    }
   ],
   "source": [
    "data_white.corr()"
   ]
  },
  {
   "cell_type": "code",
   "execution_count": 41,
   "metadata": {},
   "outputs": [
    {
     "data": {
      "image/png": "[encoded data removed]",
      "text/plain": [
       "<Figure size 432x288 with 2 Axes>"
      ]
     },
     "metadata": {
      "needs_background": "light"
     },
     "output_type": "display_data"
    }
   ],
   "source": [
    "r2_w = data_white.corr()**2\n",
    "sns.heatmap(r2_w)\n",
    "plt.show()"
   ]
  },
  {
   "cell_type": "code",
   "execution_count": 42,
   "metadata": {},
   "outputs": [
    {
     "name": "stdout",
     "output_type": "stream",
     "text": [
      "updated selected features: ['volatile acidity', 'chlorides', 'total sulfur dioxide', 'density', 'alcohol']\n"
     ]
    }
   ],
   "source": [
    "def corr_features(df, target, threshold):\n",
    "    corr_features = []\n",
    "    for feature in df.columns:\n",
    "        if feature==target: continue\n",
    "        x = df[feature]\n",
    "        y = df[target]\n",
    "        r2 = np.corrcoef(x,y)[0][1]\n",
    "        if abs(r2)>threshold:\n",
    "            corr_features.append(feature)\n",
    "    return corr_features\n",
    "\n",
    "features_selected_w = corr_features(data_white, 'quality', 0.15)\n",
    "print(f\"updated selected features: {features_selected_w}\")"
   ]
  },
  {
   "cell_type": "code",
   "execution_count": 43,
   "metadata": {},
   "outputs": [
    {
     "data": {
      "image/png": "[encoded data removed]",
      "text/plain": [
       "<Figure size 432x288 with 2 Axes>"
      ]
     },
     "metadata": {
      "needs_background": "light"
     },
     "output_type": "display_data"
    }
   ],
   "source": [
    "r2 = data_white[features_selected_w].corr()**2\n",
    "sns.heatmap(r2)\n",
    "plt.show()"
   ]
  },
  {
   "cell_type": "code",
   "execution_count": 44,
   "metadata": {},
   "outputs": [
    {
     "name": "stdout",
     "output_type": "stream",
     "text": [
      "Final selected features : ['volatile acidity', 'chlorides', 'total sulfur dioxide', 'alcohol']\n"
     ]
    }
   ],
   "source": [
    "features_selected_w = get_uncorr_features(data_white[features_selected_w], 0.5)\n",
    "print(f\"Final selected features : {features_selected_w}\")"
   ]
  },
  {
   "cell_type": "code",
   "execution_count": 45,
   "metadata": {},
   "outputs": [
    {
     "data": {
      "image/png": "[encoded data removed]",
      "text/plain": [
       "<Figure size 432x288 with 2 Axes>"
      ]
     },
     "metadata": {
      "needs_background": "light"
     },
     "output_type": "display_data"
    }
   ],
   "source": [
    "data_white[features_selected_w+['quality']].corr()\n",
    "r2 = abs(data_red[features_selected_w+['quality']].corr())\n",
    "sns.heatmap(r2)\n",
    "plt.savefig(\"final_corr.jpg\")\n",
    "plt.show()"
   ]
  },
  {
   "cell_type": "markdown",
   "metadata": {},
   "source": [
    "### 5 Model Building"
   ]
  },
  {
   "cell_type": "markdown",
   "metadata": {},
   "source": [
    "We will build a Linear Regression model based on the selected features.  We split the dataset into train/test set and then fit our model with the train dataset and evaluate the model using the test set."
   ]
  },
  {
   "cell_type": "markdown",
   "metadata": {},
   "source": [
    "We use the `model_selection` package form `sklearn` to split our dataset randomly into 75/25 i.e. we keep 25% of the dataset for model evaluation purpose."
   ]
  },
  {
   "cell_type": "markdown",
   "metadata": {},
   "source": [
    "For model fitting, we first create instantiae a `LinearRegression` object, and subsequently call the `.fit` method.  We have also created a function to log-tranform the necessary columns."
   ]
  },
  {
   "cell_type": "code",
   "execution_count": 46,
   "metadata": {},
   "outputs": [
    {
     "data": {
      "text/plain": [
       "['volatile acidity', 'total sulfur dioxide', 'density', 'sulphates', 'alcohol']"
      ]
     },
     "metadata": {},
     "output_type": "display_data"
    },
    {
     "data": {
      "text/html": [
       "<div>\n",
       "<style scoped>\n",
       "    .dataframe tbody tr th:only-of-type {\n",
       "        vertical-align: middle;\n",
       "    }\n",
       "\n",
       "    .dataframe tbody tr th {\n",
       "        vertical-align: top;\n",
       "    }\n",
       "\n",
       "    .dataframe thead th {\n",
       "        text-align: right;\n",
       "    }\n",
       "</style>\n",
       "<table border=\"1\" class=\"dataframe\">\n",
       "  <thead>\n",
       "    <tr style=\"text-align: right;\">\n",
       "      <th></th>\n",
       "      <th>randomstate</th>\n",
       "      <th>coeff</th>\n",
       "      <th>intercept</th>\n",
       "      <th>score_train</th>\n",
       "      <th>score_test</th>\n",
       "    </tr>\n",
       "  </thead>\n",
       "  <tbody>\n",
       "    <tr>\n",
       "      <th>0</th>\n",
       "      <td>1</td>\n",
       "      <td>[[-1.3278475848940179, -0.0025868033149854643,...</td>\n",
       "      <td>[-2.977346689238126]</td>\n",
       "      <td>0.358136</td>\n",
       "      <td>0.325940</td>\n",
       "    </tr>\n",
       "    <tr>\n",
       "      <th>1</th>\n",
       "      <td>2</td>\n",
       "      <td>[[-1.3174633281129584, -0.0022768443413508275,...</td>\n",
       "      <td>[-16.75651635061648]</td>\n",
       "      <td>0.339723</td>\n",
       "      <td>0.332878</td>\n",
       "    </tr>\n",
       "    <tr>\n",
       "      <th>2</th>\n",
       "      <td>3</td>\n",
       "      <td>[[-1.183359732948285, -0.0021477126463153124, ...</td>\n",
       "      <td>[0.6707694006573206]</td>\n",
       "      <td>0.352898</td>\n",
       "      <td>0.332189</td>\n",
       "    </tr>\n",
       "    <tr>\n",
       "      <th>3</th>\n",
       "      <td>4</td>\n",
       "      <td>[[-1.232766657933017, -0.002191778643397845, 1...</td>\n",
       "      <td>[1.637587393673003]</td>\n",
       "      <td>0.352745</td>\n",
       "      <td>0.332888</td>\n",
       "    </tr>\n",
       "    <tr>\n",
       "      <th>4</th>\n",
       "      <td>5</td>\n",
       "      <td>[[-1.3094785824948951, -0.0015310537526477658,...</td>\n",
       "      <td>[-16.14321141313436]</td>\n",
       "      <td>0.323240</td>\n",
       "      <td>0.358235</td>\n",
       "    </tr>\n",
       "  </tbody>\n",
       "</table>\n",
       "</div>"
      ],
      "text/plain": [
       "  randomstate                                              coeff  \\\n",
       "0           1  [[-1.3278475848940179, -0.0025868033149854643,...   \n",
       "1           2  [[-1.3174633281129584, -0.0022768443413508275,...   \n",
       "2           3  [[-1.183359732948285, -0.0021477126463153124, ...   \n",
       "3           4  [[-1.232766657933017, -0.002191778643397845, 1...   \n",
       "4           5  [[-1.3094785824948951, -0.0015310537526477658,...   \n",
       "\n",
       "              intercept  score_train  score_test  \n",
       "0  [-2.977346689238126]     0.358136    0.325940  \n",
       "1  [-16.75651635061648]     0.339723    0.332878  \n",
       "2  [0.6707694006573206]     0.352898    0.332189  \n",
       "3   [1.637587393673003]     0.352745    0.332888  \n",
       "4  [-16.14321141313436]     0.323240    0.358235  "
      ]
     },
     "metadata": {},
     "output_type": "display_data"
    }
   ],
   "source": [
    "## repeated 100 samples cross validation \n",
    "from sklearn.model_selection import train_test_split\n",
    "from sklearn.linear_model import LinearRegression\n",
    "import pandas as pd\n",
    "\n",
    "result_df = pd.DataFrame(columns = ['randomstate','coeff','intercept','score_train','score_test'])\n",
    "display(features_selected)\n",
    "\n",
    "for i in range (1,100):\n",
    "    X = data_red[features_selected]\n",
    "    y = data_red[[\"quality\"]]\n",
    "\n",
    "    X_train, X_test, y_train, y_test = train_test_split(X, y, test_size=0.5, random_state=i)\n",
    "    \n",
    "    model = LinearRegression().fit(X_train, y_train)\n",
    "    r2_train = model.score(X_train, y_train)\n",
    "    r2_test = model.score(X_test, y_test)\n",
    "    coef = model.coef_\n",
    "    bias = model.intercept_\n",
    "    \n",
    "    result_df = result_df.append({'randomstate':i,'coeff': coef, 'intercept': bias, 'score_train': r2_train, 'score_test':r2_test}, ignore_index=True)\n",
    "    \n",
    "\n",
    "display(result_df.head())\n",
    "\n"
   ]
  },
  {
   "cell_type": "code",
   "execution_count": 47,
   "metadata": {},
   "outputs": [],
   "source": [
    "# result_df.to_excel(\"output.xlsx\")"
   ]
  },
  {
   "cell_type": "code",
   "execution_count": 48,
   "metadata": {},
   "outputs": [
    {
     "data": {
      "text/plain": [
       "<matplotlib.collections.PathCollection at 0x2d1087aeb38>"
      ]
     },
     "execution_count": 48,
     "metadata": {},
     "output_type": "execute_result"
    },
    {
     "data": {
      "image/png": "[encoded data removed]",
      "text/plain": [
       "<Figure size 432x288 with 1 Axes>"
      ]
     },
     "metadata": {
      "needs_background": "light"
     },
     "output_type": "display_data"
    }
   ],
   "source": [
    "#visualisation of the different score_test and score_train\n",
    "\n",
    "import matplotlib as matplot\n",
    "matplot.pyplot.scatter(result_df['score_test'],result_df['score_train'])"
   ]
  },
  {
   "cell_type": "code",
   "execution_count": 49,
   "metadata": {},
   "outputs": [
    {
     "data": {
      "text/plain": [
       "<matplotlib.legend.Legend at 0x2d107cf7940>"
      ]
     },
     "execution_count": 49,
     "metadata": {},
     "output_type": "execute_result"
    },
    {
     "data": {
      "image/png": "[encoded data removed]",
      "text/plain": [
       "<Figure size 432x288 with 1 Axes>"
      ]
     },
     "metadata": {
      "needs_background": "light"
     },
     "output_type": "display_data"
    }
   ],
   "source": [
    "#selecting the model where the R2 values have the smallest difference, ie the point of intersection\n",
    "\n",
    "result_df_line = result_df.sort_values(by = 'score_train', ascending = True)\n",
    "result_df_line = result_df_line.reset_index()\n",
    "\n",
    "matplot.pyplot.plot(result_df_line.index, result_df_line['score_train'], label = 'R2 of Training Scores')\n",
    "matplot.pyplot.plot(result_df_line.index, result_df_line['score_test'], label = 'R2 of Testing Scores')\n",
    "matplot.pyplot.legend()\n"
   ]
  },
  {
   "cell_type": "code",
   "execution_count": 50,
   "metadata": {},
   "outputs": [
    {
     "data": {
      "text/html": [
       "<div>\n",
       "<style scoped>\n",
       "    .dataframe tbody tr th:only-of-type {\n",
       "        vertical-align: middle;\n",
       "    }\n",
       "\n",
       "    .dataframe tbody tr th {\n",
       "        vertical-align: top;\n",
       "    }\n",
       "\n",
       "    .dataframe thead th {\n",
       "        text-align: right;\n",
       "    }\n",
       "</style>\n",
       "<table border=\"1\" class=\"dataframe\">\n",
       "  <thead>\n",
       "    <tr style=\"text-align: right;\">\n",
       "      <th></th>\n",
       "      <th>index</th>\n",
       "      <th>randomstate</th>\n",
       "      <th>coeff</th>\n",
       "      <th>intercept</th>\n",
       "      <th>score_train</th>\n",
       "      <th>score_test</th>\n",
       "      <th>score_difference</th>\n",
       "    </tr>\n",
       "  </thead>\n",
       "  <tbody>\n",
       "    <tr>\n",
       "      <th>0</th>\n",
       "      <td>71</td>\n",
       "      <td>72</td>\n",
       "      <td>[[-1.163836281585176, -0.00210984922857631, -1...</td>\n",
       "      <td>[15.160867075110506]</td>\n",
       "      <td>0.341953</td>\n",
       "      <td>0.341898</td>\n",
       "      <td>0.000056</td>\n",
       "    </tr>\n",
       "    <tr>\n",
       "      <th>1</th>\n",
       "      <td>62</td>\n",
       "      <td>63</td>\n",
       "      <td>[[-1.2547610244409493, -0.0024117405618375738,...</td>\n",
       "      <td>[4.46917703500318]</td>\n",
       "      <td>0.342617</td>\n",
       "      <td>0.343051</td>\n",
       "      <td>0.000434</td>\n",
       "    </tr>\n",
       "    <tr>\n",
       "      <th>2</th>\n",
       "      <td>30</td>\n",
       "      <td>31</td>\n",
       "      <td>[[-1.337228376258548, -0.0024380198616538815, ...</td>\n",
       "      <td>[-10.45301669592244]</td>\n",
       "      <td>0.340686</td>\n",
       "      <td>0.340021</td>\n",
       "      <td>0.000665</td>\n",
       "    </tr>\n",
       "    <tr>\n",
       "      <th>3</th>\n",
       "      <td>89</td>\n",
       "      <td>90</td>\n",
       "      <td>[[-1.2172852977011925, -0.001889886408765547, ...</td>\n",
       "      <td>[0.7073598499333107]</td>\n",
       "      <td>0.342356</td>\n",
       "      <td>0.343065</td>\n",
       "      <td>0.000709</td>\n",
       "    </tr>\n",
       "    <tr>\n",
       "      <th>4</th>\n",
       "      <td>57</td>\n",
       "      <td>58</td>\n",
       "      <td>[[-1.1295751829141016, -0.001788187819195295, ...</td>\n",
       "      <td>[9.188826827081513]</td>\n",
       "      <td>0.343253</td>\n",
       "      <td>0.341517</td>\n",
       "      <td>0.001736</td>\n",
       "    </tr>\n",
       "  </tbody>\n",
       "</table>\n",
       "</div>"
      ],
      "text/plain": [
       "   index randomstate                                              coeff  \\\n",
       "0     71          72  [[-1.163836281585176, -0.00210984922857631, -1...   \n",
       "1     62          63  [[-1.2547610244409493, -0.0024117405618375738,...   \n",
       "2     30          31  [[-1.337228376258548, -0.0024380198616538815, ...   \n",
       "3     89          90  [[-1.2172852977011925, -0.001889886408765547, ...   \n",
       "4     57          58  [[-1.1295751829141016, -0.001788187819195295, ...   \n",
       "\n",
       "              intercept  score_train  score_test  score_difference  \n",
       "0  [15.160867075110506]     0.341953    0.341898          0.000056  \n",
       "1    [4.46917703500318]     0.342617    0.343051          0.000434  \n",
       "2  [-10.45301669592244]     0.340686    0.340021          0.000665  \n",
       "3  [0.7073598499333107]     0.342356    0.343065          0.000709  \n",
       "4   [9.188826827081513]     0.343253    0.341517          0.001736  "
      ]
     },
     "metadata": {},
     "output_type": "display_data"
    },
    {
     "name": "stdout",
     "output_type": "stream",
     "text": [
      "Features : ['volatile acidity', 'total sulfur dioxide', 'density', 'sulphates', 'alcohol']\n",
      "\n",
      "--- Best Model ---\n",
      "Random Seed: 72\n",
      "Coefficients: [[-1.16383628e+00 -2.10984923e-03 -1.21430612e+01  7.40561858e-01\n",
      "   2.69940643e-01]]\n",
      "Intercept : [15.16086708]\n",
      "R2 of Training Set : 0.34195337261259273\n",
      "R2 of Testing Set : 0.3418976697572238\n",
      "\n",
      "--- 2nd Model ---\n",
      "Random Seed: 63\n",
      "Coefficients: [[-1.25476102 -0.00241174 -1.63038196  0.81370711  0.29018477]]\n",
      "Intercept : [4.46917704]\n",
      "R2 of Training Set : 0.34261721822066116\n",
      "R2 of Testing Set : 0.3430509246183647\n",
      "\n",
      "--- 3rd Model ---\n",
      "Random Seed: 31\n",
      "Coefficients: [[-1.33722838e+00 -2.43801986e-03  1.33247747e+01  5.00549488e-01\n",
      "   3.14081525e-01]]\n",
      "Intercept : [-10.4530167]\n",
      "R2 of Training Set : 0.3406859783969639\n",
      "R2 of Testing Set : 0.34002081757160296\n",
      "\n"
     ]
    }
   ],
   "source": [
    "# selecting the best equation from the random state\n",
    "# selecting the model with the smallest difference between r2 value for score_train and score_test\n",
    "\n",
    "result_df[\"score_difference\"] = abs(result_df[\"score_train\"] - result_df[\"score_test\"])\n",
    "\n",
    "result_df = result_df.sort_values(by = 'score_difference', ascending = True)\n",
    "result_df = result_df.reset_index()\n",
    "display(result_df.head())\n",
    "\n",
    "bestrandomstate_1 = result_df[\"randomstate\"][0]\n",
    "bestcoeff_1 = result_df[\"coeff\"][0]\n",
    "bestintercept_1 = result_df[\"intercept\"][0]\n",
    "bestscore_train_1 = result_df[\"score_train\"][0]\n",
    "bestscore_test_1 = result_df[\"score_test\"][0]\n",
    "\n",
    "bestrandomstate_2 = result_df[\"randomstate\"][1]\n",
    "bestcoeff_2 = result_df[\"coeff\"][1]\n",
    "bestintercept_2 = result_df[\"intercept\"][1]\n",
    "bestscore_train_2 = result_df[\"score_train\"][1]\n",
    "bestscore_test_2 = result_df[\"score_test\"][1]\n",
    "\n",
    "bestrandomstate_3 = result_df[\"randomstate\"][2]\n",
    "bestcoeff_3 = result_df[\"coeff\"][2]\n",
    "bestintercept_3 = result_df[\"intercept\"][2]\n",
    "bestscore_train_3 = result_df[\"score_train\"][2]\n",
    "bestscore_test_3 = result_df[\"score_test\"][2]\n",
    "\n",
    "print(f\"Features : {features_selected}\")\n",
    "print()\n",
    "\n",
    "print(\"--- Best Model ---\")\n",
    "print(f\"Random Seed: {bestrandomstate_1}\")\n",
    "print(f\"Coefficients: {bestcoeff_1}\")\n",
    "print(f\"Intercept : {bestintercept_1}\")\n",
    "print(f\"R2 of Training Set : {bestscore_train_1}\")\n",
    "print(f\"R2 of Testing Set : {bestscore_test_1}\")\n",
    "print()\n",
    "\n",
    "print(\"--- 2nd Model ---\")\n",
    "print(f\"Random Seed: {bestrandomstate_2}\")\n",
    "print(f\"Coefficients: {bestcoeff_2}\")\n",
    "print(f\"Intercept : {bestintercept_2}\")\n",
    "print(f\"R2 of Training Set : {bestscore_train_2}\")\n",
    "print(f\"R2 of Testing Set : {bestscore_test_2}\")\n",
    "print()\n",
    "\n",
    "print(\"--- 3rd Model ---\")\n",
    "print(f\"Random Seed: {bestrandomstate_3}\")\n",
    "print(f\"Coefficients: {bestcoeff_3}\")\n",
    "print(f\"Intercept : {bestintercept_3}\")\n",
    "print(f\"R2 of Training Set : {bestscore_train_3}\")\n",
    "print(f\"R2 of Testing Set : {bestscore_test_3}\")\n",
    "print()\n",
    "\n",
    "                     \n",
    "                      "
   ]
  },
  {
   "cell_type": "markdown",
   "metadata": {},
   "source": [
    "### 6 Model Evaluation & Sensitivity Analysis"
   ]
  },
  {
   "cell_type": "code",
   "execution_count": 51,
   "metadata": {},
   "outputs": [
    {
     "name": "stdout",
     "output_type": "stream",
     "text": [
      "Model Evaluation\n",
      "\n",
      "-------- Best Model --------\n",
      "Mean Absolute Error: 0.52\n",
      "MAE as % of mean: 0.09\n",
      "\n"
     ]
    },
    {
     "data": {
      "text/html": [
       "<div>\n",
       "<style scoped>\n",
       "    .dataframe tbody tr th:only-of-type {\n",
       "        vertical-align: middle;\n",
       "    }\n",
       "\n",
       "    .dataframe tbody tr th {\n",
       "        vertical-align: top;\n",
       "    }\n",
       "\n",
       "    .dataframe thead th {\n",
       "        text-align: right;\n",
       "    }\n",
       "</style>\n",
       "<table border=\"1\" class=\"dataframe\">\n",
       "  <thead>\n",
       "    <tr style=\"text-align: right;\">\n",
       "      <th></th>\n",
       "      <th>y_pred</th>\n",
       "      <th>y_actual</th>\n",
       "      <th>error_0.25</th>\n",
       "      <th>error_0.5</th>\n",
       "      <th>error_0.75</th>\n",
       "      <th>error_1</th>\n",
       "    </tr>\n",
       "  </thead>\n",
       "  <tbody>\n",
       "    <tr>\n",
       "      <th>0</th>\n",
       "      <td>5.505770</td>\n",
       "      <td>6</td>\n",
       "      <td>0.244230</td>\n",
       "      <td>0</td>\n",
       "      <td>0</td>\n",
       "      <td>0</td>\n",
       "    </tr>\n",
       "    <tr>\n",
       "      <th>1</th>\n",
       "      <td>5.208682</td>\n",
       "      <td>6</td>\n",
       "      <td>0.541318</td>\n",
       "      <td>0.291318</td>\n",
       "      <td>0.041318</td>\n",
       "      <td>0</td>\n",
       "    </tr>\n",
       "    <tr>\n",
       "      <th>2</th>\n",
       "      <td>5.764920</td>\n",
       "      <td>6</td>\n",
       "      <td>0.000000</td>\n",
       "      <td>0</td>\n",
       "      <td>0</td>\n",
       "      <td>0</td>\n",
       "    </tr>\n",
       "    <tr>\n",
       "      <th>3</th>\n",
       "      <td>5.395730</td>\n",
       "      <td>6</td>\n",
       "      <td>0.354270</td>\n",
       "      <td>0.10427</td>\n",
       "      <td>0</td>\n",
       "      <td>0</td>\n",
       "    </tr>\n",
       "    <tr>\n",
       "      <th>4</th>\n",
       "      <td>5.049391</td>\n",
       "      <td>5</td>\n",
       "      <td>0.000000</td>\n",
       "      <td>0</td>\n",
       "      <td>0</td>\n",
       "      <td>0</td>\n",
       "    </tr>\n",
       "  </tbody>\n",
       "</table>\n",
       "</div>"
      ],
      "text/plain": [
       "     y_pred  y_actual  error_0.25 error_0.5 error_0.75 error_1\n",
       "0  5.505770         6    0.244230         0          0       0\n",
       "1  5.208682         6    0.541318  0.291318   0.041318       0\n",
       "2  5.764920         6    0.000000         0          0       0\n",
       "3  5.395730         6    0.354270   0.10427          0       0\n",
       "4  5.049391         5    0.000000         0          0       0"
      ]
     },
     "metadata": {},
     "output_type": "display_data"
    },
    {
     "name": "stdout",
     "output_type": "stream",
     "text": [
      "With a tolerance value of 0.25, the MAE is 0.30797010059658275, which as a percentage of mean is 0.05472591747606979\n",
      "With a tolerance value of 0.5, the MAE is 0.1688535503365597, which as a percentage of mean is 0.03000507336056147\n",
      "With a tolerance value of 0.75, the MAE is 0.08509071492898145, which as a percentage of mean is 0.01512051797938364\n",
      "With a tolerance value of 1, the MAE is 0.04357093814674814, which as a percentage of mean is 0.007742503446778878\n",
      "\n",
      "-------- 2nd Model --------\n",
      "Mean Absolute Error: 0.49\n",
      "MAE as % of mean: 0.09\n",
      "\n"
     ]
    },
    {
     "data": {
      "text/html": [
       "<div>\n",
       "<style scoped>\n",
       "    .dataframe tbody tr th:only-of-type {\n",
       "        vertical-align: middle;\n",
       "    }\n",
       "\n",
       "    .dataframe tbody tr th {\n",
       "        vertical-align: top;\n",
       "    }\n",
       "\n",
       "    .dataframe thead th {\n",
       "        text-align: right;\n",
       "    }\n",
       "</style>\n",
       "<table border=\"1\" class=\"dataframe\">\n",
       "  <thead>\n",
       "    <tr style=\"text-align: right;\">\n",
       "      <th></th>\n",
       "      <th>y_pred</th>\n",
       "      <th>y_actual</th>\n",
       "      <th>error_0.25</th>\n",
       "      <th>error_0.5</th>\n",
       "      <th>error_0.75</th>\n",
       "      <th>error_1</th>\n",
       "    </tr>\n",
       "  </thead>\n",
       "  <tbody>\n",
       "    <tr>\n",
       "      <th>0</th>\n",
       "      <td>6.118609</td>\n",
       "      <td>6</td>\n",
       "      <td>0</td>\n",
       "      <td>0</td>\n",
       "      <td>0</td>\n",
       "      <td>0</td>\n",
       "    </tr>\n",
       "    <tr>\n",
       "      <th>1</th>\n",
       "      <td>5.157655</td>\n",
       "      <td>5</td>\n",
       "      <td>0</td>\n",
       "      <td>0</td>\n",
       "      <td>0</td>\n",
       "      <td>0</td>\n",
       "    </tr>\n",
       "    <tr>\n",
       "      <th>2</th>\n",
       "      <td>5.204757</td>\n",
       "      <td>5</td>\n",
       "      <td>0</td>\n",
       "      <td>0</td>\n",
       "      <td>0</td>\n",
       "      <td>0</td>\n",
       "    </tr>\n",
       "    <tr>\n",
       "      <th>3</th>\n",
       "      <td>5.110561</td>\n",
       "      <td>5</td>\n",
       "      <td>0</td>\n",
       "      <td>0</td>\n",
       "      <td>0</td>\n",
       "      <td>0</td>\n",
       "    </tr>\n",
       "    <tr>\n",
       "      <th>4</th>\n",
       "      <td>6.125688</td>\n",
       "      <td>7</td>\n",
       "      <td>0.624312</td>\n",
       "      <td>0.374312</td>\n",
       "      <td>0.124312</td>\n",
       "      <td>0</td>\n",
       "    </tr>\n",
       "  </tbody>\n",
       "</table>\n",
       "</div>"
      ],
      "text/plain": [
       "     y_pred  y_actual error_0.25 error_0.5 error_0.75 error_1\n",
       "0  6.118609         6          0         0          0       0\n",
       "1  5.157655         5          0         0          0       0\n",
       "2  5.204757         5          0         0          0       0\n",
       "3  5.110561         5          0         0          0       0\n",
       "4  6.125688         7   0.624312  0.374312   0.124312       0"
      ]
     },
     "metadata": {},
     "output_type": "display_data"
    },
    {
     "name": "stdout",
     "output_type": "stream",
     "text": [
      "With a tolerance value of 0.25, the MAE is 0.2827624541598716, which as a percentage of mean is 0.05007969079652364\n",
      "With a tolerance value of 0.5, the MAE is 0.15043092052578413, which as a percentage of mean is 0.026642624844061834\n",
      "With a tolerance value of 0.75, the MAE is 0.07365288895292114, which as a percentage of mean is 0.013044567447938214\n",
      "With a tolerance value of 1, the MAE is 0.033152263117938514, which as a percentage of mean is 0.005871554238288866\n",
      "\n",
      "-------- 3rd Model --------\n",
      "Mean Absolute Error: 0.50\n",
      "MAE as % of mean: 0.09\n",
      "\n"
     ]
    },
    {
     "data": {
      "text/html": [
       "<div>\n",
       "<style scoped>\n",
       "    .dataframe tbody tr th:only-of-type {\n",
       "        vertical-align: middle;\n",
       "    }\n",
       "\n",
       "    .dataframe tbody tr th {\n",
       "        vertical-align: top;\n",
       "    }\n",
       "\n",
       "    .dataframe thead th {\n",
       "        text-align: right;\n",
       "    }\n",
       "</style>\n",
       "<table border=\"1\" class=\"dataframe\">\n",
       "  <thead>\n",
       "    <tr style=\"text-align: right;\">\n",
       "      <th></th>\n",
       "      <th>y_pred</th>\n",
       "      <th>y_actual</th>\n",
       "      <th>error_0.25</th>\n",
       "      <th>error_0.5</th>\n",
       "      <th>error_0.75</th>\n",
       "      <th>error_1</th>\n",
       "    </tr>\n",
       "  </thead>\n",
       "  <tbody>\n",
       "    <tr>\n",
       "      <th>0</th>\n",
       "      <td>5.813367</td>\n",
       "      <td>6</td>\n",
       "      <td>0</td>\n",
       "      <td>0</td>\n",
       "      <td>0</td>\n",
       "      <td>0</td>\n",
       "    </tr>\n",
       "    <tr>\n",
       "      <th>1</th>\n",
       "      <td>6.262291</td>\n",
       "      <td>7</td>\n",
       "      <td>0.487709</td>\n",
       "      <td>0.237709</td>\n",
       "      <td>0</td>\n",
       "      <td>0</td>\n",
       "    </tr>\n",
       "    <tr>\n",
       "      <th>2</th>\n",
       "      <td>5.275650</td>\n",
       "      <td>5</td>\n",
       "      <td>0.0256495</td>\n",
       "      <td>0</td>\n",
       "      <td>0</td>\n",
       "      <td>0</td>\n",
       "    </tr>\n",
       "    <tr>\n",
       "      <th>3</th>\n",
       "      <td>5.540798</td>\n",
       "      <td>4</td>\n",
       "      <td>1.2908</td>\n",
       "      <td>1.0408</td>\n",
       "      <td>0.790798</td>\n",
       "      <td>0.540798</td>\n",
       "    </tr>\n",
       "    <tr>\n",
       "      <th>4</th>\n",
       "      <td>6.078310</td>\n",
       "      <td>5</td>\n",
       "      <td>0.82831</td>\n",
       "      <td>0.57831</td>\n",
       "      <td>0.32831</td>\n",
       "      <td>0.0783105</td>\n",
       "    </tr>\n",
       "  </tbody>\n",
       "</table>\n",
       "</div>"
      ],
      "text/plain": [
       "     y_pred  y_actual error_0.25 error_0.5 error_0.75    error_1\n",
       "0  5.813367         6          0         0          0          0\n",
       "1  6.262291         7   0.487709  0.237709          0          0\n",
       "2  5.275650         5  0.0256495         0          0          0\n",
       "3  5.540798         4     1.2908    1.0408   0.790798   0.540798\n",
       "4  6.078310         5    0.82831   0.57831    0.32831  0.0783105"
      ]
     },
     "metadata": {},
     "output_type": "display_data"
    },
    {
     "name": "stdout",
     "output_type": "stream",
     "text": [
      "With a tolerance value of 0.25, the MAE is 0.2864339251633291, which as a percentage of mean is 0.05068505643235197\n",
      "With a tolerance value of 0.5, the MAE is 0.15407312838548287, which as a percentage of mean is 0.02726354848670345\n",
      "With a tolerance value of 0.75, the MAE is 0.07690128206017083, which as a percentage of mean is 0.013607835799189706\n",
      "With a tolerance value of 1, the MAE is 0.039050417621382526, which as a percentage of mean is 0.0069100495680393765\n"
     ]
    }
   ],
   "source": [
    "## model evaluation\n",
    "\n",
    "from sklearn.metrics import mean_absolute_error\n",
    "\n",
    "X_train, X_test, y_train, y_test = train_test_split(X, y, test_size=0.5, random_state=bestrandomstate_1)\n",
    "\n",
    "model = LinearRegression().fit(X_train, y_train)\n",
    "\n",
    "# predict based on test set\n",
    "y_pred = model.predict(X_test)\n",
    "\n",
    "# compare with ground truth\n",
    "mae=mean_absolute_error(y_test, y_pred)\n",
    "\n",
    "ave=np.mean(y_test[\"quality\"])\n",
    "\n",
    "print(\"Model Evaluation\")\n",
    "print()\n",
    "\n",
    "print(\"-------- Best Model --------\")\n",
    "print(f\"Mean Absolute Error: {mae:.2f}\")\n",
    "print(f\"MAE as % of mean: {mae/ave:.2f}\")\n",
    "print()\n",
    "\n",
    "# analysis for different tolerance ranges\n",
    "\n",
    "y_pred_df = pd.DataFrame(data = y_pred)\n",
    "#display(y_pred_df)\n",
    "\n",
    "y_test_0 = y_test.reset_index()\n",
    "#display(y_test_0)\n",
    "\n",
    "bestmodel_df = pd.concat([y_pred_df, y_test_0[\"quality\"]], axis = 1, ignore_index = True)\n",
    "bestmodel_df = bestmodel_df.rename(columns = {0: \"y_pred\", 1: \"y_actual\"})\n",
    "#display(bestmodel_df)\n",
    "\n",
    "def atleasterror(df1, df2, error_range):\n",
    "    outputdf = pd.DataFrame(columns = ['error'])\n",
    "    for i in range (0, df1.size):\n",
    "        #display(df1[i])\n",
    "        #display(df2[i])\n",
    "        \n",
    "        if abs(df1[i] - df2[i]) > error_range:\n",
    "            error = abs(df1[i]-df2[i]) - error_range\n",
    "            #display(error)\n",
    "            outputdf = outputdf.append({'error': error}, ignore_index = True)\n",
    "        else:\n",
    "            #display(0)\n",
    "            outputdf = outputdf.append({'error': 0}, ignore_index = True)\n",
    "    return outputdf\n",
    "\n",
    "    \n",
    "bestmodel_df[\"error_0.25\"] = atleasterror(bestmodel_df[\"y_pred\"], bestmodel_df[\"y_actual\"], 0.25)\n",
    "bestmodel_df[\"error_0.5\"] = atleasterror(bestmodel_df[\"y_pred\"], bestmodel_df[\"y_actual\"], 0.5)\n",
    "bestmodel_df[\"error_0.75\"] = atleasterror(bestmodel_df[\"y_pred\"], bestmodel_df[\"y_actual\"], 0.75)\n",
    "bestmodel_df[\"error_1\"] = atleasterror(bestmodel_df[\"y_pred\"], bestmodel_df[\"y_actual\"], 1)\n",
    "\n",
    "display(bestmodel_df.head())\n",
    "\n",
    "# determing mean absolute error\n",
    "error_25_mean = bestmodel_df[\"error_0.25\"].mean()\n",
    "error_50_mean = bestmodel_df[\"error_0.5\"].mean()\n",
    "error_75_mean = bestmodel_df[\"error_0.75\"].mean()\n",
    "error_100_mean = bestmodel_df[\"error_1\"].mean()\n",
    "\n",
    "print(f\"With a tolerance value of 0.25, the MAE is {error_25_mean}, which as a percentage of mean is {error_25_mean/ave}\")\n",
    "print(f\"With a tolerance value of 0.5, the MAE is {error_50_mean}, which as a percentage of mean is {error_50_mean/ave}\")\n",
    "print(f\"With a tolerance value of 0.75, the MAE is {error_75_mean}, which as a percentage of mean is {error_75_mean/ave}\")\n",
    "print(f\"With a tolerance value of 1, the MAE is {error_100_mean}, which as a percentage of mean is {error_100_mean/ave}\")\n",
    "print()\n",
    "\n",
    "##############\n",
    "# Similar evaulation code for 2nd model\n",
    "##############\n",
    "\n",
    "X_train, X_test, y_train, y_test = train_test_split(X, y, test_size=0.5, random_state=bestrandomstate_2)\n",
    "\n",
    "model = LinearRegression().fit(X_train, y_train)\n",
    "\n",
    "# predict based on test set\n",
    "y_pred = model.predict(X_test)\n",
    "\n",
    "# compare with ground truth\n",
    "mae=mean_absolute_error(y_test, y_pred)\n",
    "\n",
    "ave=np.mean(y_test[\"quality\"])\n",
    "\n",
    "print(\"-------- 2nd Model --------\")\n",
    "print(f\"Mean Absolute Error: {mae:.2f}\")\n",
    "print(f\"MAE as % of mean: {mae/ave:.2f}\")\n",
    "print()\n",
    "\n",
    "# analysis for different tolerance ranges\n",
    "\n",
    "y_pred_df = pd.DataFrame(data = y_pred)\n",
    "#display(y_pred_df)\n",
    "\n",
    "y_test_0 = y_test.reset_index()\n",
    "#display(y_test_0)\n",
    "\n",
    "bestmodel_df = pd.concat([y_pred_df, y_test_0[\"quality\"]], axis = 1, ignore_index = True)\n",
    "bestmodel_df = bestmodel_df.rename(columns = {0: \"y_pred\", 1: \"y_actual\"})\n",
    "#display(bestmodel_df)\n",
    "\n",
    "def atleasterror(df1, df2, error_range):\n",
    "    outputdf = pd.DataFrame(columns = ['error'])\n",
    "    for i in range (0, df1.size):\n",
    "        #display(df1[i])\n",
    "        #display(df2[i])\n",
    "        \n",
    "        if abs(df1[i] - df2[i]) > error_range:\n",
    "            error = abs(df1[i]-df2[i]) - error_range\n",
    "            #display(error)\n",
    "            outputdf = outputdf.append({'error': error}, ignore_index = True)\n",
    "        else:\n",
    "            #display(0)\n",
    "            outputdf = outputdf.append({'error': 0}, ignore_index = True)\n",
    "    return outputdf\n",
    "\n",
    "    \n",
    "bestmodel_df[\"error_0.25\"] = atleasterror(bestmodel_df[\"y_pred\"], bestmodel_df[\"y_actual\"], 0.25)\n",
    "bestmodel_df[\"error_0.5\"] = atleasterror(bestmodel_df[\"y_pred\"], bestmodel_df[\"y_actual\"], 0.5)\n",
    "bestmodel_df[\"error_0.75\"] = atleasterror(bestmodel_df[\"y_pred\"], bestmodel_df[\"y_actual\"], 0.75)\n",
    "bestmodel_df[\"error_1\"] = atleasterror(bestmodel_df[\"y_pred\"], bestmodel_df[\"y_actual\"], 1)\n",
    "\n",
    "display(bestmodel_df.head())\n",
    "\n",
    "# determing mean absolute error\n",
    "error_25_mean = bestmodel_df[\"error_0.25\"].mean()\n",
    "error_50_mean = bestmodel_df[\"error_0.5\"].mean()\n",
    "error_75_mean = bestmodel_df[\"error_0.75\"].mean()\n",
    "error_100_mean = bestmodel_df[\"error_1\"].mean()\n",
    "\n",
    "print(f\"With a tolerance value of 0.25, the MAE is {error_25_mean}, which as a percentage of mean is {error_25_mean/ave}\")\n",
    "print(f\"With a tolerance value of 0.5, the MAE is {error_50_mean}, which as a percentage of mean is {error_50_mean/ave}\")\n",
    "print(f\"With a tolerance value of 0.75, the MAE is {error_75_mean}, which as a percentage of mean is {error_75_mean/ave}\")\n",
    "print(f\"With a tolerance value of 1, the MAE is {error_100_mean}, which as a percentage of mean is {error_100_mean/ave}\")\n",
    "print()\n",
    "\n",
    "##############\n",
    "# Similar evaulation code for 3nd model\n",
    "##############\n",
    "\n",
    "X_train, X_test, y_train, y_test = train_test_split(X, y, test_size=0.5, random_state=bestrandomstate_3)\n",
    "\n",
    "model = LinearRegression().fit(X_train, y_train)\n",
    "\n",
    "# predict based on test set\n",
    "y_pred = model.predict(X_test)\n",
    "\n",
    "# compare with ground truth\n",
    "mae=mean_absolute_error(y_test, y_pred)\n",
    "\n",
    "ave=np.mean(y_test[\"quality\"])\n",
    "\n",
    "print(\"-------- 3rd Model --------\")\n",
    "print(f\"Mean Absolute Error: {mae:.2f}\")\n",
    "print(f\"MAE as % of mean: {mae/ave:.2f}\")\n",
    "print()\n",
    "\n",
    "# analysis for different tolerance ranges\n",
    "\n",
    "y_pred_df = pd.DataFrame(data = y_pred)\n",
    "#display(y_pred_df)\n",
    "\n",
    "y_test_0 = y_test.reset_index()\n",
    "#display(y_test_0)\n",
    "\n",
    "bestmodel_df = pd.concat([y_pred_df, y_test_0[\"quality\"]], axis = 1, ignore_index = True)\n",
    "bestmodel_df = bestmodel_df.rename(columns = {0: \"y_pred\", 1: \"y_actual\"})\n",
    "#display(bestmodel_df)\n",
    "\n",
    "def atleasterror(df1, df2, error_range):\n",
    "    outputdf = pd.DataFrame(columns = ['error'])\n",
    "    for i in range (0, df1.size):\n",
    "        #display(df1[i])\n",
    "        #display(df2[i])\n",
    "        \n",
    "        if abs(df1[i] - df2[i]) > error_range:\n",
    "            error = abs(df1[i]-df2[i]) - error_range\n",
    "            #display(error)\n",
    "            outputdf = outputdf.append({'error': error}, ignore_index = True)\n",
    "        else:\n",
    "            #display(0)\n",
    "            outputdf = outputdf.append({'error': 0}, ignore_index = True)\n",
    "    return outputdf\n",
    "\n",
    "    \n",
    "bestmodel_df[\"error_0.25\"] = atleasterror(bestmodel_df[\"y_pred\"], bestmodel_df[\"y_actual\"], 0.25)\n",
    "bestmodel_df[\"error_0.5\"] = atleasterror(bestmodel_df[\"y_pred\"], bestmodel_df[\"y_actual\"], 0.5)\n",
    "bestmodel_df[\"error_0.75\"] = atleasterror(bestmodel_df[\"y_pred\"], bestmodel_df[\"y_actual\"], 0.75)\n",
    "bestmodel_df[\"error_1\"] = atleasterror(bestmodel_df[\"y_pred\"], bestmodel_df[\"y_actual\"], 1)\n",
    "\n",
    "display(bestmodel_df.head())\n",
    "\n",
    "# determing mean absolute error\n",
    "error_25_mean = bestmodel_df[\"error_0.25\"].mean()\n",
    "error_50_mean = bestmodel_df[\"error_0.5\"].mean()\n",
    "error_75_mean = bestmodel_df[\"error_0.75\"].mean()\n",
    "error_100_mean = bestmodel_df[\"error_1\"].mean()\n",
    "\n",
    "print(f\"With a tolerance value of 0.25, the MAE is {error_25_mean}, which as a percentage of mean is {error_25_mean/ave}\")\n",
    "print(f\"With a tolerance value of 0.5, the MAE is {error_50_mean}, which as a percentage of mean is {error_50_mean/ave}\")\n",
    "print(f\"With a tolerance value of 0.75, the MAE is {error_75_mean}, which as a percentage of mean is {error_75_mean/ave}\")\n",
    "print(f\"With a tolerance value of 1, the MAE is {error_100_mean}, which as a percentage of mean is {error_100_mean/ave}\")"
   ]
  },
  {
   "cell_type": "markdown",
   "metadata": {},
   "source": [
    "### 7 Conclusion"
   ]
  },
  {
   "cell_type": "markdown",
   "metadata": {},
   "source": [
    "\n",
    "\n",
    "\\begin{equation}\n",
    " SalePrice = 18759 + 67 \\times Total Flr SF + 8225 \\times Total Bath + 34 \\times Total Bsmt SF - 643 \\times Age + 66 \\times Garage Area\n",
    "\\end{equation}\n"
   ]
  },
  {
   "cell_type": "markdown",
   "metadata": {},
   "source": []
  },
  {
   "cell_type": "markdown",
   "metadata": {},
   "source": [
    "### 8 References\n",
    "- Dataset: https://archive.ics.uci.edu/ml/machine-learning-databases/wine-quality/\n",
    "- Data Dictionary: http://jse.amstat.org/v19n3/decock/DataDocumentation.txt"
   ]
  }
 ],
 "metadata": {
  "kernelspec": {
   "display_name": "Python 3",
   "language": "python",
   "name": "python3"
  },
  "language_info": {
   "codemirror_mode": {
    "name": "ipython",
    "version": 3
   },
   "file_extension": ".py",
   "mimetype": "text/x-python",
   "name": "python",
   "nbconvert_exporter": "python",
   "pygments_lexer": "ipython3",
   "version": "3.7.3"
  }
 },
 "nbformat": 4,
 "nbformat_minor": 2
}
